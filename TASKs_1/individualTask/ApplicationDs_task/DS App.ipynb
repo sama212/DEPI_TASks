{
 "cells": [
  {
   "cell_type": "markdown",
   "metadata": {},
   "source": [
    "# Task \n",
    "Write a program that accepts a sequence of comma-separated numbers from user and \n",
    "generates a list and a tuple with those numbers"
   ]
  },
  {
   "cell_type": "code",
   "execution_count": 1,
   "metadata": {},
   "outputs": [
    {
     "name": "stdout",
     "output_type": "stream",
     "text": [
      "List: ['1', '5', '6', '4', '7', '8', '9', '5', '3', '4']\n",
      "Tuple: ('1', '5', '6', '4', '7', '8', '9', '5', '3', '4')\n"
     ]
    }
   ],
   "source": [
    "\n",
    "inputCollection = input(\"Enter a sequence of comma-separated numbers: \")\n",
    "\n",
    "\n",
    "List = inputCollection.split(\",\") \n",
    "\n",
    "Tuple = tuple(List)\n",
    "\n",
    "\n",
    "print(\"List:\", List)\n",
    "print(\"Tuple:\",Tuple)\n"
   ]
  }
 ],
 "metadata": {
  "kernelspec": {
   "display_name": "Python 3",
   "language": "python",
   "name": "python3"
  },
  "language_info": {
   "codemirror_mode": {
    "name": "ipython",
    "version": 3
   },
   "file_extension": ".py",
   "mimetype": "text/x-python",
   "name": "python",
   "nbconvert_exporter": "python",
   "pygments_lexer": "ipython3",
   "version": "3.10.0"
  }
 },
 "nbformat": 4,
 "nbformat_minor": 2
}
