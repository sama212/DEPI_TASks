{
 "cells": [
  {
   "cell_type": "code",
   "execution_count": 3,
   "metadata": {},
   "outputs": [
    {
     "name": "stdout",
     "output_type": "stream",
     "text": [
      "Lines stored in the list:\n",
      "['Hello, named sama,', 'this is the 2nd  line.', 'This is the 3rd  line.', 'And this is the 4th line.']\n"
     ]
    }
   ],
   "source": [
    "\n",
    "file_name = \"file.txt\"\n",
    "\n",
    "lines_list = []\n",
    "\n",
    "try:\n",
    "    with open(file_name, \"r\", encoding=\"utf-8\") as file:\n",
    "        for line in file:\n",
    "            lines_list.append(line.strip())\n",
    "\n",
    "    print(\"Lines stored in the list:\")\n",
    "    print(lines_list)\n",
    "\n",
    "except FileNotFoundError:\n",
    "    print(f\"Error: The file '{file_name}' does not exist.\")\n",
    "except Exception as e:\n",
    "    print(f\"An unexpected error occurred: {e}\")\n"
   ]
  },
  {
   "cell_type": "code",
   "execution_count": null,
   "metadata": {},
   "outputs": [],
   "source": []
  }
 ],
 "metadata": {
  "kernelspec": {
   "display_name": "Python 3",
   "language": "python",
   "name": "python3"
  },
  "language_info": {
   "codemirror_mode": {
    "name": "ipython",
    "version": 3
   },
   "file_extension": ".py",
   "mimetype": "text/x-python",
   "name": "python",
   "nbconvert_exporter": "python",
   "pygments_lexer": "ipython3",
   "version": "3.10.0"
  }
 },
 "nbformat": 4,
 "nbformat_minor": 2
}
