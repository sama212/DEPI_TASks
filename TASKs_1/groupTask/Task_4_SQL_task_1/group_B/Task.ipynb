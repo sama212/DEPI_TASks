{
 "cells": [
  {
   "cell_type": "code",
   "execution_count": 1,
   "metadata": {},
   "outputs": [],
   "source": [
    "#import sqllite API \n",
    "import sqlite3"
   ]
  },
  {
   "cell_type": "code",
   "execution_count": 2,
   "metadata": {},
   "outputs": [],
   "source": [
    "#create database and connect to it \n",
    "db = sqlite3.connect(\"DEPI.db\")"
   ]
  },
  {
   "cell_type": "code",
   "execution_count": 3,
   "metadata": {},
   "outputs": [],
   "source": [
    "#create cursor [query object] \n",
    "crsr = db.cursor()"
   ]
  },
  {
   "cell_type": "code",
   "execution_count": 4,
   "metadata": {},
   "outputs": [
    {
     "data": {
      "text/plain": [
       "<sqlite3.Cursor at 0x265b9509d40>"
      ]
     },
     "execution_count": 4,
     "metadata": {},
     "output_type": "execute_result"
    }
   ],
   "source": [
    "# Create Round Table\n",
    "round_table = \"\"\"CREATE TABLE IF NOT EXISTS Round (\n",
    "    round_id INTEGER PRIMARY KEY AUTOINCREMENT,\n",
    "    start_date DATE,\n",
    "    end_date DATE\n",
    ");\"\"\"\n",
    "crsr.execute(round_table)\n",
    "\n",
    "# Create Track Table\n",
    "track_table = \"\"\"CREATE TABLE IF NOT EXISTS Track (\n",
    "    track_id INTEGER PRIMARY KEY AUTOINCREMENT,\n",
    "    long_name TEXT NOT NULL,\n",
    "    short_name TEXT NOT NULL\n",
    ");\"\"\"\n",
    "crsr.execute(track_table)\n",
    "\n",
    "# Create Student Table\n",
    "student_table = \"\"\"CREATE TABLE IF NOT EXISTS Student (\n",
    "    student_id INTEGER PRIMARY KEY AUTOINCREMENT,\n",
    "    name TEXT NOT NULL,\n",
    "    phone TEXT NOT NULL,\n",
    "    track_id INTEGER,  -- Foreign key to Track\n",
    "    round_id INTEGER,  -- Foreign key to Round\n",
    "    city_id INTEGER,   -- Foreign key to City\n",
    "    FOREIGN KEY (track_id) REFERENCES Track(track_id) ON DELETE SET NULL,\n",
    "    FOREIGN KEY (round_id) REFERENCES Round(round_id) ON DELETE SET NULL,\n",
    "    FOREIGN KEY (city_id) REFERENCES City(city_id) ON DELETE SET NULL\n",
    ");\"\"\"\n",
    "crsr.execute(student_table)\n",
    "\n",
    "# Create Company Table\n",
    "company_table = \"\"\"CREATE TABLE IF NOT EXISTS Company (\n",
    "    company_id INTEGER PRIMARY KEY AUTOINCREMENT,\n",
    "    company_name TEXT NOT NULL\n",
    ");\"\"\"\n",
    "crsr.execute(company_table)\n",
    "\n",
    "# Create City Table\n",
    "city_table = \"\"\"CREATE TABLE IF NOT EXISTS City (\n",
    "    city_id INTEGER PRIMARY KEY AUTOINCREMENT,\n",
    "    city_name TEXT NOT NULL\n",
    ");\"\"\"\n",
    "crsr.execute(city_table)\n",
    "\n",
    "#-------------------------------------------------------------\n",
    "# Relationship Tables\n",
    "\n",
    "# Round_City Table (Many-to-Many: Rounds in Cities)\n",
    "round_city_table = \"\"\"CREATE TABLE IF NOT EXISTS Round_City (\n",
    "    round_id INTEGER,\n",
    "    city_id INTEGER,\n",
    "    PRIMARY KEY (round_id, city_id),\n",
    "    FOREIGN KEY (round_id) REFERENCES Round(round_id) ON DELETE CASCADE,\n",
    "    FOREIGN KEY (city_id) REFERENCES City(city_id) ON DELETE CASCADE\n",
    ");\"\"\"\n",
    "crsr.execute(round_city_table)\n",
    "\n",
    "# Company_City Table (Many-to-Many: Companies in Cities)\n",
    "company_city_table = \"\"\"CREATE TABLE IF NOT EXISTS Company_City (\n",
    "    company_id INTEGER,\n",
    "    city_id INTEGER,\n",
    "    PRIMARY KEY (company_id, city_id),\n",
    "    FOREIGN KEY (company_id) REFERENCES Company(company_id) ON DELETE CASCADE,\n",
    "    FOREIGN KEY (city_id) REFERENCES City(city_id) ON DELETE CASCADE\n",
    ");\"\"\"\n",
    "crsr.execute(company_city_table)\n",
    "\n",
    "#Student_City table  (Many-to-One : Students in  City)\n",
    "student_city_table = \"\"\"CREATE TABLE Student_City(\n",
    "    student_id INT,\n",
    "    city_id INT,\n",
    "    PRIMARY KEY (student_id, city_id),\n",
    "    FOREIGN KEY (student_id) REFERENCES Student(student_id),\n",
    "    FOREIGN KEY (city_id) REFERENCES City(city_id)\n",
    ");\"\"\"\n",
    "crsr.execute(student_city_table)\n",
    "\n",
    "#Student_Round Table (Many-to-One: Students in Round)\n",
    "student_round_table = \"\"\"CREATE TABLE Student_Round (\n",
    "    student_id INT,\n",
    "    round_id INT,\n",
    "    PRIMARY KEY (student_id, round_id),\n",
    "    FOREIGN KEY (student_id) REFERENCES Student(student_id),\n",
    "    FOREIGN KEY (round_id) REFERENCES Round(round_id)\n",
    ");\"\"\"\n",
    "crsr.execute(student_round_table)"
   ]
  },
  {
   "cell_type": "code",
   "execution_count": 5,
   "metadata": {},
   "outputs": [],
   "source": [
    "#insert data into tabels \n",
    "#-----------------------\n",
    "\n",
    "\n",
    "# Insert data into Round table\n",
    "crsr.execute(\"insert into Round(round_id, start_date ,end_date) values (1 ,'2023-09-10' , '2024-06-10')\")\n",
    "crsr.execute(\"insert into Round(round_id, start_date ,end_date) values (2 ,'2024-09-10' , '2025-06-10')\")\n",
    "#-------------------------------------------------------------\n",
    "# Insert data into Track table\n",
    "crsr.execute(\"insert into Track(track_id, long_name ,short_name ) values ( 45 ,'data analysis with microsoft', 'DAMS_45_S1' )\")\n",
    "crsr.execute(\"insert into Track(track_id, long_name ,short_name ) values ( 78 ,'Data Science with microsoft' , 'DSMS_78_S1' )\")\n",
    "crsr.execute(\"insert into Track(track_id, long_name ,short_name ) values ( 87 ,'data analysis with IBM'      , 'DAIBM_87_S1')\")\n",
    "crsr.execute(\"insert into Track(track_id, long_name ,short_name ) values ( 13 ,'Data Science with IBM'       , 'DSIBM_13_S1')\")\n",
    "#-------------------------------------------------------------\n",
    "# Insert data into Student table\n",
    "crsr.execute(\"insert into Student(student_id, name ,phone , track_id , round_id ,city_id) values ( 1,'sama'   ,'0105544' ,13 ,2 ,250)\")\n",
    "crsr.execute(\"insert into Student(student_id, name ,phone , track_id , round_id ,city_id) values ( 2,'malak'  ,'0124524' ,13 ,2 ,250)\")\n",
    "crsr.execute(\"insert into Student(student_id, name ,phone , track_id , round_id ,city_id) values ( 3,'bavly'  ,'0154546' ,13 ,2 ,250)\")\n",
    "crsr.execute(\"insert into Student(student_id, name ,phone , track_id , round_id ,city_id) values ( 4,'mahmoud','0101545' ,13 ,2 ,250)\")\n",
    "crsr.execute(\"insert into Student(student_id, name ,phone , track_id , round_id ,city_id) values ( 5,'ramy'   ,'0145854' ,13 ,2 ,250)\")\n",
    "crsr.execute(\"insert into Student(student_id ,name ,phone , track_id , round_id ,city_id) values (13 ,'amar'  , '0101155',78 ,1 ,250)\")\n",
    "crsr.execute(\"insert into Student(student_id ,name ,phone , track_id , round_id ,city_id) values (14 ,'john'  , '0101910',87 ,1 ,230)\")\n",
    "crsr.execute(\"insert into Student(student_id ,name ,phone , track_id , round_id ,city_id) values (15 ,'younes', '0131055',78 ,1 ,230)\")\n",
    "crsr.execute(\"insert into Student(student_id ,name ,phone , track_id , round_id ,city_id) values (16 ,'ali'   , '0101065',78 ,2 ,250)\")\n",
    "crsr.execute(\"insert into Student(student_id ,name ,phone , track_id , round_id ,city_id) values (17 ,'alaa'  , '0101710',78 ,1 ,230)\")\n",
    "crsr.execute(\"insert into Student(student_id ,name ,phone , track_id , round_id ,city_id) values (18 ,'nady'  , '0101410',78 ,1 ,250)\")\n",
    "crsr.execute(\"insert into Student(student_id ,name ,phone , track_id , round_id ,city_id) values (19 ,'nader' , '0102010',13 ,2 ,150)\")\n",
    "crsr.execute(\"insert into Student(student_id ,name ,phone , track_id , round_id ,city_id) values (20 ,'wagieh', '0181010',78 ,2 ,250)\")\n",
    "crsr.execute(\"insert into Student(student_id ,name ,phone , track_id , round_id ,city_id) values (21 ,'bassem', '0151010',45 ,1 ,150)\")\n",
    "crsr.execute(\"insert into Student(student_id ,name ,phone , track_id , round_id ,city_id) values (22 ,'saber' , '0106010',87 ,2 ,230)\")\n",
    "crsr.execute(\"insert into Student(student_id ,name ,phone , track_id , round_id ,city_id) values (23 ,'yousry', '0141010',78 ,1 ,250)\")\n",
    "crsr.execute(\"insert into Student(student_id, name ,phone , track_id , round_id ,city_id) values (24 ,'heba'  , '0101010',78 ,2 ,250)\")\n",
    "crsr.execute(\"insert into Student(student_id, name ,phone , track_id , round_id ,city_id) values (25 ,'maged' , '0101210',45 ,1 ,150)\")\n",
    "#-------------------------------------------------------------\n",
    "# Insert data into Company table\n",
    "crsr.execute(\"insert into Company(company_id, company_name ) values ( 547 , 'Eyouth')\")\n",
    "crsr.execute(\"insert into Company(company_id, company_name ) values ( 845 , 'newhorizon')\")\n",
    "crsr.execute(\"insert into Company(company_id, company_name ) values ( 458 , 'yat')\")\n",
    "#-------------------------------------------------------------\n",
    "# Insert data into City table\n",
    "crsr.execute(\"insert into city(city_id, city_name ) values ( 250 , 'assiut' )\")\n",
    "crsr.execute(\"insert into city(city_id, city_name ) values ( 230 , 'sohag' )\")\n",
    "crsr.execute(\"insert into city(city_id, city_name ) values ( 150 , 'aswan' )\")\n",
    "#-------------------------------------------------------------\n",
    "# Insert data into Round_City table\n",
    "crsr.execute(\"INSERT INTO Round_City (round_id, city_id) VALUES (1, 250)\")  # Round 1 in Assiut\n",
    "crsr.execute(\"INSERT INTO Round_City (round_id, city_id) VALUES (2, 250)\")  # Round 2 in Assiut\n",
    "crsr.execute(\"INSERT INTO Round_City (round_id, city_id) VALUES (1, 230)\")  # Round 1 in Sohag\n",
    "crsr.execute(\"INSERT INTO Round_City (round_id, city_id) VALUES (2, 230)\")  # Round 2 in Sohag\n",
    "crsr.execute(\"INSERT INTO Round_City (round_id, city_id) VALUES (1, 150)\")  # Round 1 in Aswan\n",
    "crsr.execute(\"INSERT INTO Round_City (round_id, city_id) VALUES (2, 150)\")  # Round 2 in Aswan\n",
    "#-------------------------------------------------------------\n",
    "# Insert data into Company_City table\n",
    "crsr.execute(\"INSERT INTO Company_City (company_id, city_id) VALUES (547, 250)\")  # Eyouth in Assiut\n",
    "crsr.execute(\"INSERT INTO Company_City (company_id, city_id) VALUES (845, 250)\")  # Newhorizon in Assiut\n",
    "crsr.execute(\"INSERT INTO Company_City (company_id, city_id) VALUES (458, 230)\")  # yat in Sohag\n",
    "crsr.execute(\"INSERT INTO Company_City (company_id, city_id) VALUES (547, 230)\")  # Eyouth in Sohag\n",
    "crsr.execute(\"INSERT INTO Company_City (company_id, city_id) VALUES (845, 150)\")  # Newhorizon in Aswan\n",
    "#-------------------------------------------------------------\n",
    "# Insert data into Student_Round table\n",
    "crsr.execute(\"INSERT INTO Student_Round (student_id, round_id) VALUES (1, 2)\")  # Sama in Round 2\n",
    "crsr.execute(\"INSERT INTO Student_Round (student_id, round_id) VALUES (2, 2)\")  # Malak in Round 2\n",
    "crsr.execute(\"INSERT INTO Student_Round (student_id, round_id) VALUES (3, 2)\")  # Bavly in Round 2\n",
    "crsr.execute(\"INSERT INTO Student_Round (student_id, round_id) VALUES (4, 2)\")  # Mahmoud in Round 2\n",
    "crsr.execute(\"INSERT INTO Student_Round (student_id, round_id) VALUES (5, 2)\")  # Ramy in Round 2\n",
    "crsr.execute(\"INSERT INTO Student_Round (student_id, round_id) VALUES (13, 1)\")  # Amar in Round 1\n",
    "crsr.execute(\"INSERT INTO Student_Round (student_id, round_id) VALUES (14, 1)\")  # John in Round 1\n",
    "crsr.execute(\"INSERT INTO Student_Round (student_id, round_id) VALUES (15, 1)\")  # Younes in Round 1\n",
    "crsr.execute(\"INSERT INTO Student_Round (student_id, round_id) VALUES (16, 2)\")  # Ali in Round 2\n",
    "crsr.execute(\"INSERT INTO Student_Round (student_id, round_id) VALUES (17, 1)\")  # Alaa in Round 1\n",
    "crsr.execute(\"INSERT INTO Student_Round (student_id, round_id) VALUES (18, 1)\")  # Nady in Round 1\n",
    "crsr.execute(\"INSERT INTO Student_Round (student_id, round_id) VALUES (19, 2)\")  # Nader in Round 2\n",
    "crsr.execute(\"INSERT INTO Student_Round (student_id, round_id) VALUES (20, 2)\")  # Wagieh in Round 2\n",
    "crsr.execute(\"INSERT INTO Student_Round (student_id, round_id) VALUES (21, 1)\")  # Bassem in Round 1\n",
    "crsr.execute(\"INSERT INTO Student_Round (student_id, round_id) VALUES (22, 2)\")  # Saber in Round 2\n",
    "crsr.execute(\"INSERT INTO Student_Round (student_id, round_id) VALUES (23, 1)\")  # Yousry in Round 1\n",
    "crsr.execute(\"INSERT INTO Student_Round (student_id, round_id) VALUES (24, 2)\")  # Heba in Round 2\n",
    "crsr.execute(\"INSERT INTO Student_Round (student_id, round_id) VALUES (25, 1)\")  # Maged in Round 1\n",
    "#-------------------------------------------------------------\n",
    "# Insert data into Student_City table\n",
    "crsr.execute(\"INSERT INTO Student_City (student_id, city_id) VALUES (1, 250)\")  # Sama in Assiut\n",
    "crsr.execute(\"INSERT INTO Student_City (student_id, city_id) VALUES (2, 250)\")  # Malak in Assiut\n",
    "crsr.execute(\"INSERT INTO Student_City (student_id, city_id) VALUES (3, 250)\")  # Bavly in Assiut\n",
    "crsr.execute(\"INSERT INTO Student_City (student_id, city_id) VALUES (4, 250)\")  # Mahmoud in Assiut\n",
    "crsr.execute(\"INSERT INTO Student_City (student_id, city_id) VALUES (5, 250)\")  # Ramy in Assiut\n",
    "crsr.execute(\"INSERT INTO Student_City (student_id, city_id) VALUES (13, 250)\")  # Amar in Assiut\n",
    "crsr.execute(\"INSERT INTO Student_City (student_id, city_id) VALUES (14, 230)\")  # John in Sohag\n",
    "crsr.execute(\"INSERT INTO Student_City (student_id, city_id) VALUES (15, 230)\")  # Younes in Sohag\n",
    "crsr.execute(\"INSERT INTO Student_City (student_id, city_id) VALUES (16, 250)\")  # Ali in Assiut\n",
    "crsr.execute(\"INSERT INTO Student_City (student_id, city_id) VALUES (17, 230)\")  # Alaa in Sohag\n",
    "crsr.execute(\"INSERT INTO Student_City (student_id, city_id) VALUES (18, 250)\")  # Nady in Assiut\n",
    "crsr.execute(\"INSERT INTO Student_City (student_id, city_id) VALUES (19, 150)\")  # Nader in Aswan\n",
    "crsr.execute(\"INSERT INTO Student_City (student_id, city_id) VALUES (20, 250)\")  # Wagieh in Assiut\n",
    "crsr.execute(\"INSERT INTO Student_City (student_id, city_id) VALUES (21, 150)\")  # Bassem in Aswan\n",
    "crsr.execute(\"INSERT INTO Student_City (student_id, city_id) VALUES (22, 230)\")  # Saber in Sohag\n",
    "crsr.execute(\"INSERT INTO Student_City (student_id, city_id) VALUES (23, 250)\")  # Yousry in Assiut\n",
    "crsr.execute(\"INSERT INTO Student_City (student_id, city_id) VALUES (24, 250)\")  # Heba in Assiut\n",
    "crsr.execute(\"INSERT INTO Student_City (student_id, city_id) VALUES (25, 150)\")  # Maged in Aswan\n",
    "#-------------------------------------------------------------\n",
    "#save changes \n",
    "db.commit()"
   ]
  },
  {
   "cell_type": "code",
   "execution_count": 6,
   "metadata": {},
   "outputs": [
    {
     "name": "stdout",
     "output_type": "stream",
     "text": [
      "Number of tracks: 4\n",
      "Number of students: 18\n",
      "The track names is  [('Data Science with IBM',), ('data analysis with microsoft',), ('Data Science with microsoft',), ('data analysis with IBM',)]\n"
     ]
    }
   ],
   "source": [
    "# Display number of tracks\n",
    "query = \"SELECT COUNT(*) FROM Track\"\n",
    "result = crsr.execute(query).fetchone()  \n",
    "print(\"Number of tracks:\", result[0])   \n",
    "\n",
    "# Display number of students\n",
    "query = \"SELECT COUNT(*) FROM Student\"\n",
    "result = crsr.execute(query).fetchone()\n",
    "print(\"Number of students:\", result[0])\n",
    "\n",
    "#display all tracks names \n",
    "query = \"SELECT long_name FROM Track\"\n",
    "result = crsr.execute(query).fetchall()\n",
    "print(\"The track names is \" ,result)\n"
   ]
  },
  {
   "cell_type": "code",
   "execution_count": 7,
   "metadata": {},
   "outputs": [
    {
     "name": "stdout",
     "output_type": "stream",
     "text": [
      "The student names is  [('sama',), ('malak',), ('bavly',), ('mahmoud',), ('ramy',), ('ali',), ('nader',), ('wagieh',), ('saber',), ('heba',)]\n"
     ]
    }
   ],
   "source": [
    " # Find all students in a specific round ( round 2):\n",
    "query = '''SELECT Student.name \n",
    "FROM Student\n",
    "JOIN Student_Round ON Student.student_id = Student_Round.student_id\n",
    "WHERE Student_Round.round_id = 2;'''\n",
    "result = crsr.execute(query).fetchall()\n",
    "print(\"The student names is \" ,result)"
   ]
  },
  {
   "cell_type": "code",
   "execution_count": 8,
   "metadata": {},
   "outputs": [
    {
     "name": "stdout",
     "output_type": "stream",
     "text": [
      "Round ID: 1, Student Count: 8\n",
      "Round ID: 2, Student Count: 10\n"
     ]
    }
   ],
   "source": [
    "#Count the number of students in each round:\n",
    "\n",
    "query = '''SELECT Round.round_id, COUNT(Student.student_id) \n",
    "FROM Round\n",
    "LEFT JOIN Student_Round ON Round.round_id = Student_Round.round_id\n",
    "LEFT JOIN Student ON Student_Round.student_id = Student.student_id\n",
    "GROUP BY Round.round_id;'''\n",
    "result = crsr.execute(query).fetchall()\n",
    "for row in result:\n",
    "    print(f\"Round ID: {row[0]}, Student Count: {row[1]}\")"
   ]
  },
  {
   "cell_type": "code",
   "execution_count": 9,
   "metadata": {},
   "outputs": [
    {
     "name": "stdout",
     "output_type": "stream",
     "text": [
      "The assiut student names is  [('sama',), ('malak',), ('bavly',), ('mahmoud',), ('ramy',), ('amar',), ('ali',), ('nady',), ('wagieh',), ('yousry',), ('heba',)]\n"
     ]
    }
   ],
   "source": [
    "#List all students in a specific city (assiut):\n",
    "query = '''SELECT Student.name\n",
    "FROM Student\n",
    "JOIN City ON Student.city_id = City.city_id\n",
    "WHERE City.city_id = 250;'''\n",
    "result = crsr.execute(query).fetchall()\n",
    "print(\"The assiut student names is \" ,result)\n"
   ]
  },
  {
   "cell_type": "code",
   "execution_count": 10,
   "metadata": {},
   "outputs": [],
   "source": [
    "#close the database\n",
    "crsr.close()\n",
    "db.close()"
   ]
  }
 ],
 "metadata": {
  "kernelspec": {
   "display_name": "Python 3",
   "language": "python",
   "name": "python3"
  },
  "language_info": {
   "codemirror_mode": {
    "name": "ipython",
    "version": 3
   },
   "file_extension": ".py",
   "mimetype": "text/x-python",
   "name": "python",
   "nbconvert_exporter": "python",
   "pygments_lexer": "ipython3",
   "version": "3.10.0"
  }
 },
 "nbformat": 4,
 "nbformat_minor": 2
}
