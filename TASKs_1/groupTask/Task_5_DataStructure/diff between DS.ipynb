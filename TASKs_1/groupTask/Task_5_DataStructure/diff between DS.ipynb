{
 "cells": [
  {
   "cell_type": "markdown",
   "metadata": {},
   "source": [
    "# List "
   ]
  },
  {
   "cell_type": "markdown",
   "metadata": {},
   "source": [
    "##  Definition"
   ]
  },
  {
   "cell_type": "markdown",
   "metadata": {},
   "source": [
    "\n",
    "**Definition:** A list is defined using square brackets [], can contain different data type and allows duplicates"
   ]
  },
  {
   "cell_type": "code",
   "execution_count": 177,
   "metadata": {},
   "outputs": [
    {
     "data": {
      "text/plain": [
       "[1, 2, 3, 4, 5]"
      ]
     },
     "execution_count": 177,
     "metadata": {},
     "output_type": "execute_result"
    }
   ],
   "source": [
    "list1 = [1, 2, 3, 4, 5]\n",
    "list1"
   ]
  },
  {
   "cell_type": "markdown",
   "metadata": {},
   "source": [
    "**Mutable:** Yes, elements in a list can be changed after creation.\n",
    "\n"
   ]
  },
  {
   "cell_type": "code",
   "execution_count": 178,
   "metadata": {},
   "outputs": [
    {
     "data": {
      "text/plain": [
       "[1, 2, 12, 4, 5]"
      ]
     },
     "execution_count": 178,
     "metadata": {},
     "output_type": "execute_result"
    }
   ],
   "source": [
    "list1[2] = 12\n",
    "\n",
    "list1"
   ]
  },
  {
   "cell_type": "markdown",
   "metadata": {},
   "source": [
    "**Ordered:** Yes, elements maintain their order."
   ]
  },
  {
   "cell_type": "code",
   "execution_count": 179,
   "metadata": {},
   "outputs": [
    {
     "name": "stdout",
     "output_type": "stream",
     "text": [
      "[5, 16, 3, 2, 7, 10]\n"
     ]
    }
   ],
   "source": [
    "list2 = [5,16,3,2,7,10]\n",
    "\n",
    "print(list2)"
   ]
  },
  {
   "cell_type": "code",
   "execution_count": 180,
   "metadata": {},
   "outputs": [
    {
     "data": {
      "text/plain": [
       "['sama', 20, True]"
      ]
     },
     "execution_count": 180,
     "metadata": {},
     "output_type": "execute_result"
    }
   ],
   "source": [
    "list3 = ['sama', 20  , True]\n",
    "list3"
   ]
  },
  {
   "cell_type": "markdown",
   "metadata": {},
   "source": [
    "## Operations\n"
   ]
  },
  {
   "cell_type": "markdown",
   "metadata": {},
   "source": [
    "###  adding elements\n",
    "\n",
    "<pre>       \n",
    "            1.append(element)\n",
    "            2.insert(postion, element)\n",
    "            3.extend(otherList)\n",
    "\n",
    "</pre>"
   ]
  },
  {
   "cell_type": "code",
   "execution_count": 181,
   "metadata": {},
   "outputs": [
    {
     "data": {
      "text/plain": [
       "[1, 2, 12, 4, 5, 'Sama']"
      ]
     },
     "execution_count": 181,
     "metadata": {},
     "output_type": "execute_result"
    }
   ],
   "source": [
    "list1.append(\"Sama\")\n",
    "list1"
   ]
  },
  {
   "cell_type": "code",
   "execution_count": 182,
   "metadata": {},
   "outputs": [
    {
     "data": {
      "text/plain": [
       "['Moustafa', 1, 2, 12, 4, 5, 'Sama']"
      ]
     },
     "execution_count": 182,
     "metadata": {},
     "output_type": "execute_result"
    }
   ],
   "source": [
    "list1.insert(0, \"Moustafa\")\n",
    "list1"
   ]
  },
  {
   "cell_type": "code",
   "execution_count": 183,
   "metadata": {},
   "outputs": [
    {
     "name": "stdout",
     "output_type": "stream",
     "text": [
      "['sama', 20, True, 5, 16, 3, 2, 7, 10, 'mostafa', 22, False]\n"
     ]
    }
   ],
   "source": [
    "# add to the end of list\n",
    "list3.extend(list2)#way 1\n",
    "list3.extend(['mostafa', 22 , False])# way 2\n",
    "print(list3)"
   ]
  },
  {
   "cell_type": "code",
   "execution_count": 184,
   "metadata": {},
   "outputs": [
    {
     "name": "stdout",
     "output_type": "stream",
     "text": [
      "['sama', 20, True, 5, 16, 3, 2, 7, 10, 'mostafa', 22, False, 'Moustafa', 1, 2, 12, 4, 5, 'Sama']\n"
     ]
    }
   ],
   "source": [
    "# add to the front of list\n",
    "\n",
    "list1 =list3 + list1\n",
    "\n",
    "print(list1)"
   ]
  },
  {
   "cell_type": "code",
   "execution_count": 185,
   "metadata": {},
   "outputs": [
    {
     "name": "stdout",
     "output_type": "stream",
     "text": [
      "['sama', 20, True, 5, 16, 3, 2, 'sama', 20, True, 5, 16, 3, 2, 7, 10, 'mostafa', 22, False, 10, 'mostafa', 22, False, 'Moustafa', 1, 2, 12, 4, 5, 'Sama']\n"
     ]
    }
   ],
   "source": [
    "# add at specified position in list\n",
    "\n",
    "list1 = list1[:7] +list3 +list1[8:]\n",
    "print(list1)"
   ]
  },
  {
   "cell_type": "markdown",
   "metadata": {},
   "source": [
    "###  Removing elements\n",
    "\n",
    "<pre>       \n",
    "            1.remove(element) : Removes the first element matched only\n",
    "\n",
    "            2.pop(index)      : Removes and returns the element with matching index\n",
    "            \n",
    "            3.clear()         : clear all elemrnt from the list & let an empty list\n",
    "\n",
    "</pre>"
   ]
  },
  {
   "cell_type": "code",
   "execution_count": 186,
   "metadata": {},
   "outputs": [
    {
     "name": "stdout",
     "output_type": "stream",
     "text": [
      "['sama', 20, 5, 16, 3, 2, 7, 10, 'mostafa', 22, False]\n"
     ]
    }
   ],
   "source": [
    "list3.remove(True) \n",
    "print (list3)"
   ]
  },
  {
   "cell_type": "code",
   "execution_count": 187,
   "metadata": {},
   "outputs": [
    {
     "name": "stdout",
     "output_type": "stream",
     "text": [
      "['sama', 5, 16, 3, 2, 7, 10, 'mostafa', 22, False]\n"
     ]
    }
   ],
   "source": [
    "list3.pop(1)\n",
    "print(list3)"
   ]
  },
  {
   "cell_type": "code",
   "execution_count": 188,
   "metadata": {},
   "outputs": [
    {
     "name": "stdout",
     "output_type": "stream",
     "text": [
      "[]\n"
     ]
    }
   ],
   "source": [
    "list3.clear()\n",
    "\n",
    "print(list3)"
   ]
  },
  {
   "cell_type": "markdown",
   "metadata": {},
   "source": [
    "## Methods"
   ]
  },
  {
   "cell_type": "markdown",
   "metadata": {},
   "source": [
    "<pre>       \n",
    "            1.append(element)\n",
    "            2.insert(index, element)\n",
    "            3.extend(otherList)\n",
    "            4.remove(element)\n",
    "            5.pop(index)\n",
    "            6.clear()\n",
    "            7.index(element, start, end)\n",
    "            8.count(element)\n",
    "            9.sort(key, reverse)\n",
    "            10.reverse()\n",
    "            11.copy()\n",
    "\n",
    "\n",
    "</pre>"
   ]
  },
  {
   "cell_type": "markdown",
   "metadata": {},
   "source": [
    "**append(x)**\n",
    "\n",
    "<pre>\n",
    "        Argument: x (the element you want to add to the end of the list)\n",
    "</pre>"
   ]
  },
  {
   "cell_type": "code",
   "execution_count": 189,
   "metadata": {},
   "outputs": [
    {
     "name": "stdout",
     "output_type": "stream",
     "text": [
      "[1, 2, 3, 4]\n"
     ]
    }
   ],
   "source": [
    "my_list = [1, 2, 3]\n",
    "my_list.append(4)\n",
    "\n",
    "print(my_list)"
   ]
  },
  {
   "cell_type": "markdown",
   "metadata": {},
   "source": [
    "**extend(iterable)**\n",
    "\n",
    "<pre>\n",
    "        Argument: iterable (an iterable, like a list, that you want to add to the end of the list)\n",
    "</pre>"
   ]
  },
  {
   "cell_type": "code",
   "execution_count": 190,
   "metadata": {},
   "outputs": [
    {
     "name": "stdout",
     "output_type": "stream",
     "text": [
      "[1, 2, 3, 4, 5, 6]\n"
     ]
    }
   ],
   "source": [
    "my_list = [1, 2, 3]\n",
    "my_list.extend([4, 5, 6]) \n",
    "print(my_list)"
   ]
  },
  {
   "cell_type": "markdown",
   "metadata": {},
   "source": [
    "**insert(index, x)**\n",
    "\n",
    "<pre>\n",
    "        Arguments:\n",
    "            index: Position where you want to insert the element\n",
    "            x: The element you want to insert\n",
    "</pre>"
   ]
  },
  {
   "cell_type": "code",
   "execution_count": 191,
   "metadata": {},
   "outputs": [
    {
     "name": "stdout",
     "output_type": "stream",
     "text": [
      "[1, 'a', 2, 3]\n"
     ]
    }
   ],
   "source": [
    "my_list = [1, 2, 3]\n",
    "my_list.insert(1, 'a')\n",
    "print(my_list)"
   ]
  },
  {
   "cell_type": "markdown",
   "metadata": {},
   "source": [
    "**remove(x)**\n",
    "\n",
    "<pre>\n",
    "        Argument: x (the element you want to remove, first occurrence only)\n",
    "</pre>"
   ]
  },
  {
   "cell_type": "code",
   "execution_count": 192,
   "metadata": {},
   "outputs": [
    {
     "name": "stdout",
     "output_type": "stream",
     "text": [
      "[1, 3, 2]\n"
     ]
    }
   ],
   "source": [
    "my_list = [1, 2, 3, 2]\n",
    "my_list.remove(2) \n",
    "print(my_list)\n"
   ]
  },
  {
   "cell_type": "markdown",
   "metadata": {},
   "source": [
    "**pop(index)**\n",
    "\n",
    "<pre>\n",
    "        Argument (optional): index (position of the element to remove and return; defaults to the last element if not specified)\n",
    "</pre>"
   ]
  },
  {
   "cell_type": "code",
   "execution_count": 193,
   "metadata": {},
   "outputs": [
    {
     "name": "stdout",
     "output_type": "stream",
     "text": [
      " first time -->  [1, 3, 4, 5]\n",
      " second time -->  [1, 3, 4]\n"
     ]
    }
   ],
   "source": [
    "my_list = [1, 2, 3 ,4 , 5]\n",
    "my_list.pop(1) \n",
    "\n",
    "print(\" first time --> \",my_list)\n",
    "\n",
    "my_list.pop() \n",
    "\n",
    "print(\" second time --> \",my_list)\n"
   ]
  },
  {
   "cell_type": "markdown",
   "metadata": {},
   "source": [
    "**clear()**\n",
    "\n",
    "<pre>\n",
    "        Arguments: None (removes all elements from the list)\n",
    "\n",
    "</pre>"
   ]
  },
  {
   "cell_type": "code",
   "execution_count": 194,
   "metadata": {},
   "outputs": [
    {
     "name": "stdout",
     "output_type": "stream",
     "text": [
      "[]\n"
     ]
    }
   ],
   "source": [
    "my_list = [1, 2, 3]\n",
    "my_list.clear()  \n",
    "print(my_list)\n"
   ]
  },
  {
   "cell_type": "markdown",
   "metadata": {},
   "source": [
    "**index(x, start, end)**\n",
    "\n",
    "<pre>\n",
    "        Arguments:\n",
    "            x: The element to find\n",
    "            start (optional): The starting index for the search\n",
    "            end (optional): The ending index for the search\n",
    "\n",
    "</pre>"
   ]
  },
  {
   "cell_type": "code",
   "execution_count": 195,
   "metadata": {},
   "outputs": [
    {
     "data": {
      "text/plain": [
       "1"
      ]
     },
     "execution_count": 195,
     "metadata": {},
     "output_type": "execute_result"
    }
   ],
   "source": [
    "my_list = [1, 2, 3, 2] \n",
    "my_list.index(2) \n"
   ]
  },
  {
   "cell_type": "markdown",
   "metadata": {},
   "source": [
    "**count(x)**\n",
    "\n",
    "<pre>\n",
    "        Argument: x (the element to count in the list)\n",
    "\n",
    "</pre>"
   ]
  },
  {
   "cell_type": "code",
   "execution_count": 196,
   "metadata": {},
   "outputs": [
    {
     "data": {
      "text/plain": [
       "3"
      ]
     },
     "execution_count": 196,
     "metadata": {},
     "output_type": "execute_result"
    }
   ],
   "source": [
    "my_list = [1, 2, 3, 2 ,2]\n",
    "my_list.count(2) \n"
   ]
  },
  {
   "cell_type": "markdown",
   "metadata": {},
   "source": [
    "**sort(key, reverse)**\n",
    "\n",
    "<pre>\n",
    "        Arguments:\n",
    "            key (optional): A function to customize the sort order\n",
    "            reverse (optional): True to sort in descending order, False (default) for ascending\n",
    "\n",
    "</pre>"
   ]
  },
  {
   "cell_type": "code",
   "execution_count": 197,
   "metadata": {},
   "outputs": [
    {
     "name": "stdout",
     "output_type": "stream",
     "text": [
      "[1, 2, 3]\n",
      "[3, 2, 1]\n"
     ]
    }
   ],
   "source": [
    "my_list = [3, 1, 2]\n",
    "my_list.sort()#sort in place \"modifying the original list\"\n",
    "print(my_list)\n",
    "#----------------------------------------------------------------\n",
    "my_list = [3, 1, 2]\n",
    "my_list.sort(reverse=True)\n",
    "print(my_list)\n"
   ]
  },
  {
   "cell_type": "markdown",
   "metadata": {},
   "source": [
    "**reverse()**\n",
    "\n",
    "<pre>\n",
    "        Arguments: None (reverses the list in place)\n",
    "\n",
    "</pre>"
   ]
  },
  {
   "cell_type": "code",
   "execution_count": 198,
   "metadata": {},
   "outputs": [
    {
     "name": "stdout",
     "output_type": "stream",
     "text": [
      "[3, 2, 1]\n"
     ]
    }
   ],
   "source": [
    "my_list = [1, 2, 3]\n",
    "my_list.reverse()\n",
    "print(my_list)\n"
   ]
  },
  {
   "cell_type": "markdown",
   "metadata": {},
   "source": [
    "**copy()**\n",
    "\n",
    "<pre>\n",
    "        Arguments: None (returns a shallow copy of the list)\n",
    "\n",
    "</pre>"
   ]
  },
  {
   "cell_type": "code",
   "execution_count": 199,
   "metadata": {},
   "outputs": [
    {
     "name": "stdout",
     "output_type": "stream",
     "text": [
      "the original list [1, 2, 3] , the copy one [1, 2, 3] \n",
      "the original list [1, 2, 3] , the copy one after add element [1, 2, 3, 4] \n"
     ]
    }
   ],
   "source": [
    "my_list = [1, 2, 3]\n",
    "new_list = my_list.copy() \n",
    "print(f\"the original list {my_list} , the copy one {new_list} \" )\n",
    "\n",
    "new_list.append(4)\n",
    "\n",
    "print(f\"the original list {my_list} , the copy one after add element {new_list} \" )"
   ]
  },
  {
   "cell_type": "markdown",
   "metadata": {},
   "source": [
    "# Tuple "
   ]
  },
  {
   "cell_type": "markdown",
   "metadata": {},
   "source": [
    "##  Definition"
   ]
  },
  {
   "cell_type": "markdown",
   "metadata": {},
   "source": [
    "**Definition:** A tuple is defined using parentheses ().\n"
   ]
  },
  {
   "cell_type": "code",
   "execution_count": 200,
   "metadata": {},
   "outputs": [],
   "source": [
    "my_tuple = (1, 2, 3, 4)"
   ]
  },
  {
   "cell_type": "code",
   "execution_count": 201,
   "metadata": {},
   "outputs": [],
   "source": [
    "my_tuple2 = (\"sama\" , 22  , \"sama\") #different data type and allows duplicates"
   ]
  },
  {
   "cell_type": "markdown",
   "metadata": {},
   "source": [
    "**Immutable:** Yes, elements in a tuple cannot be modified after creation.\n"
   ]
  },
  {
   "cell_type": "code",
   "execution_count": 202,
   "metadata": {},
   "outputs": [],
   "source": [
    "#my_tuple[1] = 10  # This would raise an error"
   ]
  },
  {
   "cell_type": "markdown",
   "metadata": {},
   "source": [
    "**Ordered:** Yes, elements maintain their order."
   ]
  },
  {
   "cell_type": "code",
   "execution_count": 203,
   "metadata": {},
   "outputs": [
    {
     "name": "stdout",
     "output_type": "stream",
     "text": [
      "(10, 2, 1, 4)\n"
     ]
    }
   ],
   "source": [
    "my_tuple = (10, 2, 1, 4)\n",
    "print(my_tuple)"
   ]
  },
  {
   "cell_type": "markdown",
   "metadata": {},
   "source": [
    "## Operations "
   ]
  },
  {
   "cell_type": "markdown",
   "metadata": {},
   "source": [
    "**Accessing elements:** Tuples support indexing and slicing.\n",
    "\n"
   ]
  },
  {
   "cell_type": "code",
   "execution_count": 204,
   "metadata": {},
   "outputs": [
    {
     "name": "stdout",
     "output_type": "stream",
     "text": [
      "2\n",
      "(10, 2)\n"
     ]
    }
   ],
   "source": [
    "print(my_tuple[1])     \n",
    "print(my_tuple[:2])    "
   ]
  },
  {
   "cell_type": "markdown",
   "metadata": {},
   "source": [
    "**Concatenation:** You can concatenate tuples using the [+] operator."
   ]
  },
  {
   "cell_type": "code",
   "execution_count": 205,
   "metadata": {},
   "outputs": [
    {
     "name": "stdout",
     "output_type": "stream",
     "text": [
      "(1, 2, 3, 4)\n"
     ]
    }
   ],
   "source": [
    "tuple1 = (1, 2)\n",
    "tuple2 = (3, 4)\n",
    "result = tuple1 + tuple2\n",
    "print(result) "
   ]
  },
  {
   "cell_type": "markdown",
   "metadata": {},
   "source": [
    "**Repetition:** Tuples can be repeated using the [*] operator."
   ]
  },
  {
   "cell_type": "code",
   "execution_count": 206,
   "metadata": {},
   "outputs": [
    {
     "name": "stdout",
     "output_type": "stream",
     "text": [
      "(1, 2, 1, 2, 1, 2)\n"
     ]
    }
   ],
   "source": [
    "my_tuple = (1, 2)\n",
    "result = my_tuple * 3\n",
    "print(result)  "
   ]
  },
  {
   "cell_type": "markdown",
   "metadata": {},
   "source": [
    "**Membership:** You can check if an element exists [in] a tuple using the in keyword."
   ]
  },
  {
   "cell_type": "code",
   "execution_count": 207,
   "metadata": {},
   "outputs": [
    {
     "name": "stdout",
     "output_type": "stream",
     "text": [
      "True\n",
      "False\n"
     ]
    }
   ],
   "source": [
    "my_tuple = (1, 2, 3)\n",
    "print(2 in my_tuple)  \n",
    "print(5 in my_tuple)   "
   ]
  },
  {
   "cell_type": "markdown",
   "metadata": {},
   "source": [
    "**Built-in Functions**\n",
    "\n",
    "<pre>\n",
    "        len(): Returns the number of elements in the tuple.\n",
    "        max(): Returns the maximum element (if elements are comparable).\n",
    "        min(): Returns the minimum element.\n",
    "        sum(): Returns the sum of all elements (if they are numbers).\n",
    "</pre>"
   ]
  },
  {
   "cell_type": "code",
   "execution_count": 208,
   "metadata": {},
   "outputs": [
    {
     "name": "stdout",
     "output_type": "stream",
     "text": [
      "4\n",
      "4\n",
      "1\n",
      "10\n"
     ]
    }
   ],
   "source": [
    "my_tuple = (1, 2, 3, 4)\n",
    "print(len(my_tuple))  \n",
    "print(max(my_tuple))  \n",
    "print(min(my_tuple))  \n",
    "print(sum(my_tuple))  "
   ]
  },
  {
   "cell_type": "markdown",
   "metadata": {},
   "source": [
    "**Tuple Unpacking:** You can unpack tuple elements into variables."
   ]
  },
  {
   "cell_type": "code",
   "execution_count": 209,
   "metadata": {},
   "outputs": [
    {
     "name": "stdout",
     "output_type": "stream",
     "text": [
      "1 2 3\n"
     ]
    }
   ],
   "source": [
    "my_tuple = (1, 2, 3)\n",
    "a, b, c = my_tuple\n",
    "print(a, b, c)  "
   ]
  },
  {
   "cell_type": "markdown",
   "metadata": {},
   "source": [
    "**Index and Count Methods**\n",
    "\n",
    "<pre>\n",
    "        tuple.index(x): Returns the index of the first occurrence of x.\n",
    "        tuple.count(x): Counts occurrences of x in the tuple.\n",
    "</pre>"
   ]
  },
  {
   "cell_type": "code",
   "execution_count": 210,
   "metadata": {},
   "outputs": [
    {
     "name": "stdout",
     "output_type": "stream",
     "text": [
      "1\n",
      "2\n"
     ]
    }
   ],
   "source": [
    "my_tuple = (1, 2, 3, 2)\n",
    "print(my_tuple.index(2))  #(first occurrence)\n",
    "print(my_tuple.count(2))  #(two occurrences of 2)"
   ]
  },
  {
   "cell_type": "markdown",
   "metadata": {},
   "source": [
    "# Sets"
   ]
  },
  {
   "cell_type": "markdown",
   "metadata": {},
   "source": [
    "##  Definition"
   ]
  },
  {
   "cell_type": "markdown",
   "metadata": {},
   "source": [
    "**Definition:** A set is defined using curly braces {} or with set().\n",
    "\n"
   ]
  },
  {
   "cell_type": "code",
   "execution_count": 211,
   "metadata": {},
   "outputs": [
    {
     "name": "stdout",
     "output_type": "stream",
     "text": [
      "{1, 2, 3}\n"
     ]
    }
   ],
   "source": [
    "my_set = {1, 2, 3}\n",
    "print(my_set)"
   ]
  },
  {
   "cell_type": "code",
   "execution_count": 212,
   "metadata": {},
   "outputs": [
    {
     "name": "stdout",
     "output_type": "stream",
     "text": [
      "{1, 3, 5}\n"
     ]
    }
   ],
   "source": [
    "my_set = set({1,3,5})\n",
    "print(my_set)"
   ]
  },
  {
   "cell_type": "markdown",
   "metadata": {},
   "source": [
    "**Mutable:** Yes, you can add or remove elements from a set.\n"
   ]
  },
  {
   "cell_type": "code",
   "execution_count": 213,
   "metadata": {},
   "outputs": [
    {
     "name": "stdout",
     "output_type": "stream",
     "text": [
      "{1, 3, 4, 5}\n"
     ]
    }
   ],
   "source": [
    "my_set.add(4)\n",
    "print(my_set) "
   ]
  },
  {
   "cell_type": "markdown",
   "metadata": {},
   "source": [
    "**Unordered:** Elements do not maintain any particular order.\n"
   ]
  },
  {
   "cell_type": "code",
   "execution_count": 214,
   "metadata": {},
   "outputs": [
    {
     "name": "stdout",
     "output_type": "stream",
     "text": [
      "{1, 2, 3}\n"
     ]
    }
   ],
   "source": [
    "my_set = {2, 1, 3}\n",
    "print(my_set)"
   ]
  },
  {
   "cell_type": "markdown",
   "metadata": {},
   "source": [
    "## operation "
   ]
  },
  {
   "cell_type": "markdown",
   "metadata": {},
   "source": [
    "**Union ( | or union() )**\n",
    "<pre>\n",
    "    Combines all elements from two sets, without duplicates.     \n",
    "</pre>"
   ]
  },
  {
   "cell_type": "code",
   "execution_count": 215,
   "metadata": {},
   "outputs": [
    {
     "name": "stdout",
     "output_type": "stream",
     "text": [
      "{1, 2, 3, 4, 5}\n"
     ]
    }
   ],
   "source": [
    "set1 = {1, 2, 3}\n",
    "set2 = {3, 4, 5}\n",
    "union_set = set1 | set2\n",
    "# Or use union() method: union_set = set1.union(set2)\n",
    "print(union_set)  \n"
   ]
  },
  {
   "cell_type": "markdown",
   "metadata": {},
   "source": [
    "**Intersection ( & or intersection() )**\n",
    "<pre>\n",
    "    Returns elements that are common to both sets.     \n",
    "</pre>"
   ]
  },
  {
   "cell_type": "code",
   "execution_count": 216,
   "metadata": {},
   "outputs": [
    {
     "name": "stdout",
     "output_type": "stream",
     "text": [
      "{3}\n"
     ]
    }
   ],
   "source": [
    "set1 = {1, 2, 3}\n",
    "set2 = {3, 4, 5}\n",
    "intersection_set = set1 & set2\n",
    "# Or use intersection() method: intersection_set = set1.intersection(set2)\n",
    "print(intersection_set)   "
   ]
  },
  {
   "cell_type": "markdown",
   "metadata": {},
   "source": [
    "**Difference ( - or difference() )**\n",
    "<pre>\n",
    "    Returns elements that are in the first set but not in the second.    \n",
    "</pre>"
   ]
  },
  {
   "cell_type": "code",
   "execution_count": 217,
   "metadata": {},
   "outputs": [
    {
     "name": "stdout",
     "output_type": "stream",
     "text": [
      "{1, 2}\n"
     ]
    }
   ],
   "source": [
    "set1 = {1, 2, 3}\n",
    "set2 = {3, 4, 5}\n",
    "difference_set = set1 - set2\n",
    "# Or use difference() method: difference_set = set1.difference(set2)\n",
    "print(difference_set) \n"
   ]
  },
  {
   "cell_type": "markdown",
   "metadata": {},
   "source": [
    "**Symmetric Difference ( ^ or symmetric_difference() )**\n",
    "<pre>\n",
    "    Returns elements that are in either of the sets but not in both (i.e., excludes intersection).    \n",
    "</pre>"
   ]
  },
  {
   "cell_type": "code",
   "execution_count": 218,
   "metadata": {},
   "outputs": [
    {
     "name": "stdout",
     "output_type": "stream",
     "text": [
      "{1, 2, 4, 5}\n"
     ]
    }
   ],
   "source": [
    "set1 = {1, 2, 3}\n",
    "set2 = {3, 4, 5}\n",
    "symmetric_difference_set = set1 ^ set2\n",
    "# Or use symmetric_difference() method: symmetric_difference_set = set1.symmetric_difference(set2)\n",
    "print(symmetric_difference_set)  "
   ]
  },
  {
   "cell_type": "markdown",
   "metadata": {},
   "source": [
    "**Subset and Superset Testing ( <=, >=, issubset(), issuperset() )**\n"
   ]
  },
  {
   "cell_type": "markdown",
   "metadata": {},
   "source": [
    "<pre>\n",
    "    Subset: Checks if all elements of one set are in another set.\n",
    "</pre>"
   ]
  },
  {
   "cell_type": "code",
   "execution_count": 219,
   "metadata": {},
   "outputs": [
    {
     "name": "stdout",
     "output_type": "stream",
     "text": [
      "True\n"
     ]
    }
   ],
   "source": [
    "set1 = {1, 2}\n",
    "set2 = {1, 2, 3}\n",
    "print(set1 <= set2) \n",
    "# Or use issubset(): print(set1.issubset(set2))\n"
   ]
  },
  {
   "cell_type": "markdown",
   "metadata": {},
   "source": [
    "<pre>\n",
    "    Superset: Checks if a set contains all elements of another set.\n",
    "</pre>"
   ]
  },
  {
   "cell_type": "code",
   "execution_count": 220,
   "metadata": {},
   "outputs": [
    {
     "name": "stdout",
     "output_type": "stream",
     "text": [
      "True\n"
     ]
    }
   ],
   "source": [
    "print(set2 >= set1) \n",
    "# Or use issuperset(): print(set2.issuperset(set1))"
   ]
  },
  {
   "cell_type": "markdown",
   "metadata": {},
   "source": [
    "**Add and Remove Elements**\n",
    "<pre>\n",
    "    Add: Adds an element to the set.\n",
    "    Remove: Removes a specified element; throws an error if the element is not found.\n",
    "    Discard: Removes an element without raising an error if the element is not present.\n",
    "</pre>"
   ]
  },
  {
   "cell_type": "code",
   "execution_count": 221,
   "metadata": {},
   "outputs": [
    {
     "name": "stdout",
     "output_type": "stream",
     "text": [
      "{1, 2, 3, 4}\n"
     ]
    }
   ],
   "source": [
    "my_set = {1, 2, 3}\n",
    "my_set.add(4)\n",
    "print(my_set)  "
   ]
  },
  {
   "cell_type": "code",
   "execution_count": 222,
   "metadata": {},
   "outputs": [
    {
     "name": "stdout",
     "output_type": "stream",
     "text": [
      "{1, 3, 4}\n"
     ]
    }
   ],
   "source": [
    "my_set.remove(2)\n",
    "print(my_set) "
   ]
  },
  {
   "cell_type": "code",
   "execution_count": 223,
   "metadata": {},
   "outputs": [],
   "source": [
    "my_set.discard(10)  # No error if 10 is not in the set"
   ]
  },
  {
   "cell_type": "markdown",
   "metadata": {},
   "source": [
    "**Membership Testing (in, not in)**"
   ]
  },
  {
   "cell_type": "code",
   "execution_count": 224,
   "metadata": {},
   "outputs": [
    {
     "name": "stdout",
     "output_type": "stream",
     "text": [
      "True\n",
      "False\n"
     ]
    }
   ],
   "source": [
    "my_set = {1, 2, 3}\n",
    "print(2 in my_set)     \n",
    "print(3 not in my_set) "
   ]
  },
  {
   "cell_type": "markdown",
   "metadata": {},
   "source": [
    "#  Dictionary"
   ]
  },
  {
   "cell_type": "markdown",
   "metadata": {},
   "source": [
    "##  Definition"
   ]
  },
  {
   "cell_type": "markdown",
   "metadata": {},
   "source": [
    "**Definition:** A dictionary is defined using curly braces {} with key-value pairs.\n"
   ]
  },
  {
   "cell_type": "code",
   "execution_count": 225,
   "metadata": {},
   "outputs": [
    {
     "name": "stdout",
     "output_type": "stream",
     "text": [
      "{'name': 'sama', 'age': 22}\n"
     ]
    }
   ],
   "source": [
    "my_dict = {'name': 'sama', 'age': 22}\n",
    "print(my_dict)"
   ]
  },
  {
   "cell_type": "markdown",
   "metadata": {},
   "source": [
    "**Mutable:** Yes, you can change values, add, or remove key-value pairs.\n",
    "\n"
   ]
  },
  {
   "cell_type": "code",
   "execution_count": 226,
   "metadata": {},
   "outputs": [
    {
     "name": "stdout",
     "output_type": "stream",
     "text": [
      "{'name': 'sama', 'age': 26, 'city': 'Assiut'}\n"
     ]
    }
   ],
   "source": [
    "my_dict['age'] = 26\n",
    "my_dict['city'] = 'Assiut'\n",
    "print(my_dict) "
   ]
  },
  {
   "cell_type": "markdown",
   "metadata": {},
   "source": [
    "**Ordered** (in Python 3.7+): Keys maintain their insertion order."
   ]
  },
  {
   "cell_type": "markdown",
   "metadata": {},
   "source": [
    "## operations"
   ]
  },
  {
   "cell_type": "markdown",
   "metadata": {},
   "source": [
    "**Accessing Values**\n",
    "<pre>\n",
    "    Access values by key using square brackets [] or the get() method.     \n",
    "</pre>"
   ]
  },
  {
   "cell_type": "code",
   "execution_count": 227,
   "metadata": {},
   "outputs": [
    {
     "name": "stdout",
     "output_type": "stream",
     "text": [
      "sama\n",
      "22\n"
     ]
    }
   ],
   "source": [
    "my_dict = {'name': 'sama', 'age': 22}\n",
    "print(my_dict['name'])           \n",
    "print(my_dict.get('age'))       "
   ]
  },
  {
   "cell_type": "markdown",
   "metadata": {},
   "source": [
    "**Adding and Updating Items**\n",
    "<pre>\n",
    "    You can add or update items using assignment.     \n",
    "</pre>"
   ]
  },
  {
   "cell_type": "code",
   "execution_count": 228,
   "metadata": {},
   "outputs": [
    {
     "name": "stdout",
     "output_type": "stream",
     "text": [
      "{'name': 'Mohamed', 'age': 22}\n"
     ]
    }
   ],
   "source": [
    "my_dict = {'name': 'sama'}\n",
    "my_dict['age'] = 22           # Adds a new key-value pair\n",
    "my_dict['name'] = 'Mohamed'   # Updates the value of an existing key\n",
    "print(my_dict)  "
   ]
  },
  {
   "cell_type": "markdown",
   "metadata": {},
   "source": [
    "**Removing Items**\n",
    "<pre>\n",
    "    pop(key): Removes the item with the specified key and returns its value. Raises an error if the key doesn’t exist.\n",
    "    popitem(): Removes and returns the last inserted key-value pair.\n",
    "    del: Deletes an item with the specified key or the entire dictionary.\n",
    "    clear(): Empties the dictionary.     \n",
    "</pre>"
   ]
  },
  {
   "cell_type": "code",
   "execution_count": 229,
   "metadata": {},
   "outputs": [
    {
     "name": "stdout",
     "output_type": "stream",
     "text": [
      "{'name': 'sama', 'gender': 'Female'}\n",
      "('gender', 'Female')\n",
      "{}\n",
      "{}\n"
     ]
    }
   ],
   "source": [
    "my_dict = {'name': 'sama', 'age': 22, 'gender': 'Female'}\n",
    "my_dict.pop('age')             # Removes key 'age'\n",
    "print(my_dict)                 \n",
    "\n",
    "last_item = my_dict.popitem()  # Removes and returns the last item\n",
    "print(last_item)               \n",
    "\n",
    "del my_dict['name']            # Deletes 'name' key\n",
    "print(my_dict)                 \n",
    "\n",
    "my_dict.clear()                # Empties the dictionary\n",
    "print(my_dict)                 \n"
   ]
  },
  {
   "cell_type": "markdown",
   "metadata": {},
   "source": [
    "**Dictionary Methods**\n",
    "<pre>\n",
    "    keys(): Returns a view object of all the keys.\n",
    "    values(): Returns a view object of all the values.\n",
    "    items(): Returns a view object of all key-value pairs as tuples.     \n",
    "</pre>"
   ]
  },
  {
   "cell_type": "code",
   "execution_count": 230,
   "metadata": {},
   "outputs": [
    {
     "name": "stdout",
     "output_type": "stream",
     "text": [
      "dict_keys(['name', 'age'])\n",
      "dict_values(['sama', 22])\n",
      "dict_items([('name', 'sama'), ('age', 22)])\n"
     ]
    }
   ],
   "source": [
    "my_dict = {'name': 'sama', 'age': 22}\n",
    "print(my_dict.keys())    \n",
    "print(my_dict.values())  \n",
    "print(my_dict.items())   \n"
   ]
  },
  {
   "cell_type": "markdown",
   "metadata": {},
   "source": [
    "**Membership**"
   ]
  },
  {
   "cell_type": "code",
   "execution_count": 231,
   "metadata": {},
   "outputs": [
    {
     "name": "stdout",
     "output_type": "stream",
     "text": [
      "True\n",
      "True\n"
     ]
    }
   ],
   "source": [
    "my_dict = {'name': 'sama', 'age': 22}\n",
    "print('name' in my_dict)       \n",
    "print('height' not in my_dict) \n"
   ]
  },
  {
   "cell_type": "markdown",
   "metadata": {},
   "source": [
    "**Updating with Another Dictionary (update())**\n",
    "<pre>\n",
    "        Combines another dictionary into the current dictionary. If keys overlap, values from the second dictionary overwrite those in the first.     \n",
    "</pre>"
   ]
  },
  {
   "cell_type": "code",
   "execution_count": 232,
   "metadata": {},
   "outputs": [
    {
     "name": "stdout",
     "output_type": "stream",
     "text": [
      "{'name': 'sama', 'age': 22, 'gender': 'Female'}\n"
     ]
    }
   ],
   "source": [
    "my_dict = {'name': 'sama', 'age': 21}\n",
    "other_dict = {'age': 22, 'gender': 'Female'}\n",
    "my_dict.update(other_dict)\n",
    "print(my_dict)  \n"
   ]
  },
  {
   "cell_type": "markdown",
   "metadata": {},
   "source": [
    "**Copying a Dictionary**\n",
    "\n",
    "<pre>\n",
    "    copy(): Creates a shallow copy of the dictionary. \n",
    "</pre>"
   ]
  },
  {
   "cell_type": "code",
   "execution_count": 233,
   "metadata": {},
   "outputs": [
    {
     "name": "stdout",
     "output_type": "stream",
     "text": [
      "{'name': 'sama', 'age': 22}\n"
     ]
    }
   ],
   "source": [
    "my_dict = {'name': 'sama', 'age': 22}\n",
    "new_dict = my_dict.copy()\n",
    "print(new_dict) \n"
   ]
  },
  {
   "cell_type": "markdown",
   "metadata": {},
   "source": [
    "**Dictionary Comprehension**\n",
    "\n",
    "<pre>\n",
    "    You can create dictionaries using dictionary comprehension. \n",
    "</pre>"
   ]
  },
  {
   "cell_type": "code",
   "execution_count": 234,
   "metadata": {},
   "outputs": [
    {
     "name": "stdout",
     "output_type": "stream",
     "text": [
      "{1: 1, 2: 4, 3: 9, 4: 16, 5: 25}\n"
     ]
    }
   ],
   "source": [
    "squares = {x: x*x for x in range(1, 6)}\n",
    "print(squares)  "
   ]
  },
  {
   "cell_type": "markdown",
   "metadata": {},
   "source": [
    "**Setting Default Values (setdefault())**\n",
    "\n",
    "<pre>\n",
    "    Returns the value for a specified key if it exists; otherwise, adds the key with a specified default value.\n",
    "</pre>"
   ]
  },
  {
   "cell_type": "code",
   "execution_count": 235,
   "metadata": {},
   "outputs": [
    {
     "name": "stdout",
     "output_type": "stream",
     "text": [
      "{'name': 'sama', 'age': 23}\n"
     ]
    }
   ],
   "source": [
    "my_dict = {'name': 'sama'}\n",
    "age = my_dict.setdefault('age', 23)\n",
    "print(my_dict)  "
   ]
  }
 ],
 "metadata": {
  "kernelspec": {
   "display_name": "Python 3",
   "language": "python",
   "name": "python3"
  },
  "language_info": {
   "codemirror_mode": {
    "name": "ipython",
    "version": 3
   },
   "file_extension": ".py",
   "mimetype": "text/x-python",
   "name": "python",
   "nbconvert_exporter": "python",
   "pygments_lexer": "ipython3",
   "version": "3.10.0"
  }
 },
 "nbformat": 4,
 "nbformat_minor": 2
}
